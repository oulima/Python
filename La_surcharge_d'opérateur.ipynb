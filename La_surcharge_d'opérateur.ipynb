{
  "nbformat": 4,
  "nbformat_minor": 0,
  "metadata": {
    "colab": {
      "name": "La surcharge d'opérateur",
      "provenance": [],
      "collapsed_sections": [],
      "authorship_tag": "ABX9TyO270dvN1S8eL0bUob5EdVH",
      "include_colab_link": true
    },
    "kernelspec": {
      "name": "python3",
      "display_name": "Python 3"
    }
  },
  "cells": [
    {
      "cell_type": "markdown",
      "metadata": {
        "id": "view-in-github",
        "colab_type": "text"
      },
      "source": [
        "<a href=\"https://colab.research.google.com/github/oulima/Python/blob/master/La_surcharge_d'op%C3%A9rateur.ipynb\" target=\"_parent\"><img src=\"https://colab.research.google.com/assets/colab-badge.svg\" alt=\"Open In Colab\"/></a>"
      ]
    },
    {
      "cell_type": "markdown",
      "metadata": {
        "id": "nfmI0KiAeMcN",
        "colab_type": "text"
      },
      "source": [
        "La surcharge d'opérateur"
      ]
    },
    {
      "cell_type": "markdown",
      "metadata": {
        "id": "nT5ZxfFEeNvH",
        "colab_type": "text"
      },
      "source": [
        ""
      ]
    },
    {
      "cell_type": "code",
      "metadata": {
        "id": "XrilJRAqeOSJ",
        "colab_type": "code",
        "colab": {}
      },
      "source": [
        "# définition de la surcharge d'opérateur \n",
        "class Point:\n",
        "\n",
        "    #Point au plan\n",
        "    def Plan(self, x, y):\n",
        "        self.P1 = float(x,y)\n",
        "        \n",
        "    #Point en espace\n",
        "    def Espace(self, x, y, z):\n",
        "      self.P2 = float(x, y, z)\n",
        "\n",
        "    def ToString(self):\n",
        "        return self.P1 + \" \" + self.P2\n",
        "\n",
        "    "
      ],
      "execution_count": 0,
      "outputs": []
    },
    {
      "cell_type": "markdown",
      "metadata": {
        "id": "Ur6n0kCdeCVk",
        "colab_type": "text"
      },
      "source": [
        ""
      ]
    }
  ]
}