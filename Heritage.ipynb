{
  "nbformat": 4,
  "nbformat_minor": 0,
  "metadata": {
    "colab": {
      "name": "Heritage",
      "provenance": [],
      "collapsed_sections": [],
      "authorship_tag": "ABX9TyPJEcBE8m3QYLQmHq37SCJj",
      "include_colab_link": true
    },
    "kernelspec": {
      "name": "python3",
      "display_name": "Python 3"
    }
  },
  "cells": [
    {
      "cell_type": "markdown",
      "metadata": {
        "id": "view-in-github",
        "colab_type": "text"
      },
      "source": [
        "<a href=\"https://colab.research.google.com/github/oulima/Python/blob/master/Heritage.ipynb\" target=\"_parent\"><img src=\"https://colab.research.google.com/assets/colab-badge.svg\" alt=\"Open In Colab\"/></a>"
      ]
    },
    {
      "cell_type": "markdown",
      "metadata": {
        "id": "BkjISldbj_se",
        "colab_type": "text"
      },
      "source": [
        "L'héritage simple "
      ]
    },
    {
      "cell_type": "markdown",
      "metadata": {
        "id": "O2XmzNi3kD5d",
        "colab_type": "text"
      },
      "source": [
        ""
      ]
    },
    {
      "cell_type": "code",
      "metadata": {
        "id": "zOyMja_mkEYg",
        "colab_type": "code",
        "colab": {}
      },
      "source": [
        "class DateNaissance:\n",
        "\n",
        "\n",
        "    def __init__(self, jour, mois, annee):\n",
        "        self.jour = jour\n",
        "        self.mois = mois\n",
        "        self.annee = annee\n",
        "\n",
        "    def ToString(self):\n",
        "        self.DateNaissance = string(self.jour, self.mois, self.annee)\n",
        "\n",
        "class Personne(DateNaissance):\n",
        "\n",
        "    def __init__(self, nom, prenom, DateNaisance):\n",
        "        self.nom = nom\n",
        "        self.prenom = prenom\n",
        "        self.DateNaissance = DateNaissance\n",
        "\n",
        "    def ToString(self):\n",
        "        self.P = string(self.nom, self.prenom, self.DateNaisance)\n",
        "         \n",
        "class Employe(Personne):\n",
        "\n",
        "    def __init__(self, salaire):\n",
        "        self.salaire = salaire\n",
        "\n",
        "    def ToString(self):\n",
        "        self.E = string(self.salaire)\n",
        "\n",
        "class Chef(Employe):\n",
        "\n",
        "    def __init__(self, service):\n",
        "        self.service = service\n",
        "\n",
        "    def ToString(self):\n",
        "        self.C = string(self.servire) \n",
        "      \n",
        "    "
      ],
      "execution_count": 0,
      "outputs": []
    }
  ]
}