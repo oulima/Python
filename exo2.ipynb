{
  "nbformat": 4,
  "nbformat_minor": 0,
  "metadata": {
    "colab": {
      "name": "exo2.ipynb",
      "provenance": [],
      "authorship_tag": "ABX9TyPTzJNDsNDaNFCp0key5Gzt",
      "include_colab_link": true
    },
    "kernelspec": {
      "name": "python3",
      "display_name": "Python 3"
    }
  },
  "cells": [
    {
      "cell_type": "markdown",
      "metadata": {
        "id": "view-in-github",
        "colab_type": "text"
      },
      "source": [
        "<a href=\"https://colab.research.google.com/github/oulima/Python/blob/master/exo2.ipynb\" target=\"_parent\"><img src=\"https://colab.research.google.com/assets/colab-badge.svg\" alt=\"Open In Colab\"/></a>"
      ]
    },
    {
      "cell_type": "code",
      "metadata": {
        "id": "yZkpNVQLIwk-",
        "colab_type": "code",
        "colab": {}
      },
      "source": [
        "exo 2 DVS"
      ],
      "execution_count": 0,
      "outputs": []
    },
    {
      "cell_type": "markdown",
      "metadata": {
        "id": "RKTefLiMJtR4",
        "colab_type": "text"
      },
      "source": [
        ""
      ]
    },
    {
      "cell_type": "code",
      "metadata": {
        "id": "Pc9V4ujrJt8L",
        "colab_type": "code",
        "colab": {}
      },
      "source": [
        "#importer les librairies\n",
        "import pandas as pd\n",
        "from plotly import __version__\n",
        "%matplotlib inline \n",
        "import seaborn as sns\n",
        "import numpy\n",
        "from plotly import __version__\n",
        "%matplotlib inline \n"
      ],
      "execution_count": 0,
      "outputs": []
    },
    {
      "cell_type": "code",
      "metadata": {
        "id": "GZR67MwCM0sV",
        "colab_type": "code",
        "colab": {}
      },
      "source": [
        "#ouverture fichier dans repertoire\n",
        "data = pd.read_csv('sales_predictions.csv')\n",
        "data.describe()\n",
        "dataSampled = data.sample(50)"
      ],
      "execution_count": 0,
      "outputs": []
    },
    {
      "cell_type": "code",
      "metadata": {
        "id": "1t_wWuF0T42u",
        "colab_type": "code",
        "colab": {}
      },
      "source": [
        "sb.relplot(x='date', y='item_price', data=data.sample(150))"
      ],
      "execution_count": 0,
      "outputs": []
    }
  ]
}