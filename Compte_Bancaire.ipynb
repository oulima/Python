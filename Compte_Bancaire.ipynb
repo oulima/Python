{
  "nbformat": 4,
  "nbformat_minor": 0,
  "metadata": {
    "colab": {
      "name": "Compte Bancaire",
      "provenance": [],
      "authorship_tag": "ABX9TyOk6s5FGj2HqbUiSNWZ0s/w",
      "include_colab_link": true
    },
    "kernelspec": {
      "name": "python3",
      "display_name": "Python 3"
    }
  },
  "cells": [
    {
      "cell_type": "markdown",
      "metadata": {
        "id": "view-in-github",
        "colab_type": "text"
      },
      "source": [
        "<a href=\"https://colab.research.google.com/github/oulima/Python/blob/master/Compte_Bancaire.ipynb\" target=\"_parent\"><img src=\"https://colab.research.google.com/assets/colab-badge.svg\" alt=\"Open In Colab\"/></a>"
      ]
    },
    {
      "cell_type": "code",
      "metadata": {
        "id": "C1Cvl4860dVK",
        "colab_type": "code",
        "colab": {}
      },
      "source": [
        ""
      ],
      "execution_count": 0,
      "outputs": []
    },
    {
      "cell_type": "markdown",
      "metadata": {
        "id": "OedC_mG70iIn",
        "colab_type": "text"
      },
      "source": [
        ""
      ]
    },
    {
      "cell_type": "markdown",
      "metadata": {
        "id": "iUx3-0DM30NA",
        "colab_type": "text"
      },
      "source": [
        "on test\n"
      ]
    },
    {
      "cell_type": "code",
      "metadata": {
        "id": "iucrMb3k313-",
        "colab_type": "code",
        "colab": {}
      },
      "source": [
        ""
      ],
      "execution_count": 0,
      "outputs": []
    },
    {
      "cell_type": "markdown",
      "metadata": {
        "id": "e9mUQMprHHQq",
        "colab_type": "text"
      },
      "source": [
        ""
      ]
    },
    {
      "cell_type": "markdown",
      "metadata": {
        "id": "6BzXm-ANHIFE",
        "colab_type": "text"
      },
      "source": [
        "Le compte bancaire\n"
      ]
    },
    {
      "cell_type": "code",
      "metadata": {
        "id": "TCyKBmXtHJKU",
        "colab_type": "code",
        "colab": {}
      },
      "source": [
        "# définition de la classe Compte\n",
        "class CompteBancaire:\n",
        "\n",
        "    #Slde initiae\n",
        "    def __init__(self, soldedeb):\n",
        "        self.nom = \"Dupont\"\n",
        "        self.solde = float(soldedeb)\n",
        "        \n",
        "    #Nouveau solde\n",
        "    def UpdateSolde(self, somme):\n",
        "    self.solde = float(somme)\n",
        "\n",
        "    \n",
        "    #Retourne le solde\n",
        "    def Affiche(self):\n",
        "    return self.solde\n",
        "\n",
        "    #Créditer le solde\n",
        "    def Depot(self, somme):\n",
        "    self.solde += somme\n",
        "    return self.solde\n",
        "\n",
        "    #Débiter le solde\n",
        "    def Retrait(self, somme):\n",
        "    self.solde -= somme\n",
        "    return self.solde\n",
        "    "
      ],
      "execution_count": 0,
      "outputs": []
    }
  ]
}