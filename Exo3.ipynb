{
  "nbformat": 4,
  "nbformat_minor": 0,
  "metadata": {
    "colab": {
      "name": "Exo3.ipynb",
      "provenance": [],
      "include_colab_link": true
    },
    "kernelspec": {
      "name": "python3",
      "display_name": "Python 3"
    }
  },
  "cells": [
    {
      "cell_type": "markdown",
      "metadata": {
        "id": "view-in-github",
        "colab_type": "text"
      },
      "source": [
        "<a href=\"https://colab.research.google.com/github/oulima/Python/blob/master/Exo3.ipynb\" target=\"_parent\"><img src=\"https://colab.research.google.com/assets/colab-badge.svg\" alt=\"Open In Colab\"/></a>"
      ]
    },
    {
      "cell_type": "markdown",
      "metadata": {
        "id": "y2iuie30YenM",
        "colab_type": "text"
      },
      "source": [
        "Exo 3: Visualisation de variables catégoriques\n"
      ]
    },
    {
      "cell_type": "code",
      "metadata": {
        "id": "YDDNSjJcYko4",
        "colab_type": "code",
        "colab": {}
      },
      "source": [
        "import numpy as np\n",
        "import pandas as pd\n",
        "import seaborn as sns\n",
        "import matplotlib.pyplot as plt\n",
        "import warnings\n",
        "warnings.filterwarnings('ignore')\n"
      ],
      "execution_count": 0,
      "outputs": []
    },
    {
      "cell_type": "code",
      "metadata": {
        "id": "dcM7nREoYva7",
        "colab_type": "code",
        "colab": {}
      },
      "source": [
        "#1_lecture du fichier \n",
        "data = pd.read_csv('ibm_hr_attrition.csv')\n",
        "data.describe()"
      ],
      "execution_count": 0,
      "outputs": []
    },
    {
      "cell_type": "code",
      "metadata": {
        "id": "qfq5pLJXsERT",
        "colab_type": "code",
        "colab": {}
      },
      "source": [
        "#2_utilisation catplot\n",
        "sns.catplot(x='Attrition', y='JobSatisfaction', data=data, kind=\"bar\")"
      ],
      "execution_count": 0,
      "outputs": []
    },
    {
      "cell_type": "code",
      "metadata": {
        "id": "IPyiMGCQs_Jz",
        "colab_type": "code",
        "colab": {}
      },
      "source": [
        "#3_changer de graphique\n",
        "sns.boxplot(x=\"JobSatisfaction\", y=\"Attrition\", data=data)"
      ],
      "execution_count": 0,
      "outputs": []
    },
    {
      "cell_type": "code",
      "metadata": {
        "id": "fnrbg6idtMa1",
        "colab_type": "code",
        "colab": {}
      },
      "source": [
        "#4_utilisation boxlot\n",
        "sns.catplot(x=\"TotalWorkingYears\", y=\"Attrition\", data =data, kind= \"box\", height=15)"
      ],
      "execution_count": 0,
      "outputs": []
    },
    {
      "cell_type": "code",
      "metadata": {
        "id": "jsb2gA58tZU-",
        "colab_type": "code",
        "colab": {}
      },
      "source": [
        "#5_utlisation jobsatisfraction\n",
        "#isolation de valeurs aberantes\n",
        "sns.boxplot(x=\"JobSatisfaction\", y=\"Attrition\", data=val_ab)"
      ],
      "execution_count": 0,
      "outputs": []
    },
    {
      "cell_type": "code",
      "metadata": {
        "id": "uCjUG-YJxfgY",
        "colab_type": "code",
        "colab": {}
      },
      "source": [
        "#6_utilisation méthode .describe\n",
        "val_ab['JobSatisfaction'].describe()\n",
        "data['TotalWorkingYears'].describe()"
      ],
      "execution_count": 0,
      "outputs": []
    },
    {
      "cell_type": "code",
      "metadata": {
        "id": "KHfwl4aPyk-b",
        "colab_type": "code",
        "colab": {}
      },
      "source": [
        "#9_Remplacer les valeurs\n",
        "data['Attrition'] = data['Attrition'].replace('Yes', 1)\n"
      ],
      "execution_count": 0,
      "outputs": []
    },
    {
      "cell_type": "code",
      "metadata": {
        "id": "nHk1MYDXzK2n",
        "colab_type": "code",
        "colab": {}
      },
      "source": [
        "data['Attrition'] = data['Attrition'].replace('No', 0)"
      ],
      "execution_count": 0,
      "outputs": []
    },
    {
      "cell_type": "code",
      "metadata": {
        "id": "7iYyEdb-zcGM",
        "colab_type": "code",
        "colab": {}
      },
      "source": [
        "#10_utilisation un Histogramme EducationField\n",
        "sns.catplot(x='Attrition', y='EducationField', kind=\"bar\", data=data)"
      ],
      "execution_count": 0,
      "outputs": []
    }
  ]
}